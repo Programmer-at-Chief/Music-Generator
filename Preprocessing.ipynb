{
 "cells": [
  {
   "cell_type": "code",
   "execution_count": 1,
   "id": "9fbba98f-ac33-4e02-8c9f-75756cf73776",
   "metadata": {},
   "outputs": [
    {
     "name": "stderr",
     "output_type": "stream",
     "text": [
      "2024-11-25 00:50:19.694166: I tensorflow/core/util/port.cc:153] oneDNN custom operations are on. You may see slightly different numerical results due to floating-point round-off errors from different computation orders. To turn them off, set the environment variable `TF_ENABLE_ONEDNN_OPTS=0`.\n",
      "2024-11-25 00:50:19.700119: I external/local_xla/xla/tsl/cuda/cudart_stub.cc:32] Could not find cuda drivers on your machine, GPU will not be used.\n",
      "2024-11-25 00:50:19.816016: I external/local_xla/xla/tsl/cuda/cudart_stub.cc:32] Could not find cuda drivers on your machine, GPU will not be used.\n",
      "2024-11-25 00:50:19.877008: E external/local_xla/xla/stream_executor/cuda/cuda_fft.cc:485] Unable to register cuFFT factory: Attempting to register factory for plugin cuFFT when one has already been registered\n",
      "2024-11-25 00:50:19.988081: E external/local_xla/xla/stream_executor/cuda/cuda_dnn.cc:8454] Unable to register cuDNN factory: Attempting to register factory for plugin cuDNN when one has already been registered\n",
      "2024-11-25 00:50:20.014978: E external/local_xla/xla/stream_executor/cuda/cuda_blas.cc:1452] Unable to register cuBLAS factory: Attempting to register factory for plugin cuBLAS when one has already been registered\n",
      "2024-11-25 00:50:20.158701: I tensorflow/core/platform/cpu_feature_guard.cc:210] This TensorFlow binary is optimized to use available CPU instructions in performance-critical operations.\n",
      "To enable the following instructions: AVX2 AVX_VNNI FMA, in other operations, rebuild TensorFlow with the appropriate compiler flags.\n",
      "2024-11-25 00:50:23.722411: W tensorflow/compiler/tf2tensorrt/utils/py_utils.cc:38] TF-TRT Warning: Could not find TensorRT\n"
     ]
    }
   ],
   "source": [
    "import os \n",
    "import json\n",
    "import music21 as m21\n",
    "import tensorflow.keras as keras\n",
    "import numpy as np\n",
    "\n",
    "KERN_DATASET_PATH = \"Scores/Deutschl/erk\"\n",
    "ACCEPTABLE_DURATIONS  = [\n",
    "    0.25, # 1/16 of a note \n",
    "    0.5 ,\n",
    "    0.75, 1.0, 1.5, 2, 3, \n",
    "    4 # full note\n",
    "]\n",
    "SAVE_DIR = \"Dataset\"\n",
    "SINGLE_FILE = \"combination\"\n",
    "SEQUENCE_LENGTH = 128\n",
    "MAPPING_PATH = 'mapping.json'"
   ]
  },
  {
   "cell_type": "code",
   "execution_count": null,
   "id": "6961a482",
   "metadata": {},
   "outputs": [],
   "source": [
    "!pip show kerastuner"
   ]
  },
  {
   "cell_type": "code",
   "execution_count": 2,
   "id": "1ec83d00",
   "metadata": {},
   "outputs": [],
   "source": [
    "musescore_path = r'/bin/mscore'  # Adjust for your OS\n",
    "m21.environment.set('musescoreDirectPNGPath' ,musescore_path)\n",
    "m21.environment.set('musicxmlPath',musescore_path)"
   ]
  },
  {
   "cell_type": "code",
   "execution_count": 3,
   "id": "eb3c9deb-1499-4a64-9368-796ba79bea7f",
   "metadata": {},
   "outputs": [],
   "source": [
    "def load_songs(path):\n",
    "    songs = []\n",
    "    song_names = []\n",
    "    for root,dirs,files in os.walk(path):\n",
    "        for file in files:\n",
    "            if file[-3:] == 'krn':\n",
    "                song= m21.converter.parse(os.path.join(root,file))\n",
    "                songs.append(song)\n",
    "                song_names.append(file[:-4])\n",
    "                \n",
    "    return songs,song_names\n"
   ]
  },
  {
   "cell_type": "code",
   "execution_count": 4,
   "id": "0ea0c2b7",
   "metadata": {},
   "outputs": [],
   "source": [
    "def has_acceptable_durations(song,acceptable_durations):\n",
    "    for note in song.flat.notesAndRests:\n",
    "        if note.duration.quarterLength not in acceptable_durations:\n",
    "            return False\n",
    "    return True"
   ]
  },
  {
   "cell_type": "code",
   "execution_count": 5,
   "id": "d3a9ad58",
   "metadata": {},
   "outputs": [],
   "source": [
    "def preprocess(path):\n",
    "    print(\"Loading songs..\")\n",
    "    \n",
    "    songs,song_names = load_songs(path)\n",
    "    \n",
    "    print(f\"Loaded {len(songs)} songs\")\n",
    "    \n",
    "    for i,song in enumerate(songs):\n",
    "        \n",
    "        # filter out songs with non acceptable durations \n",
    "        if not has_acceptable_durations(song,ACCEPTABLE_DURATIONS):\n",
    "            print('Not acceptable')\n",
    "            \n",
    "        # transpose songs to Cmaj/Amaj\n",
    "        # song = transpose(song)\n",
    "        \n",
    "        # encode song\n",
    "        encoded_song = encode_song(song)\n",
    "        \n",
    "        # save song to text file\n",
    "        save_path = os.path.join(SAVE_DIR,song_names[i])\n",
    "        with open(save_path,'w') as f:\n",
    "            f.write(encoded_song)\n",
    "\n",
    "    \n",
    "    songs[0].show()\n",
    "    \n",
    "\n"
   ]
  },
  {
   "cell_type": "code",
   "execution_count": 6,
   "id": "c9f1904d",
   "metadata": {},
   "outputs": [],
   "source": [
    "def encode_song(song,time_step = 0.25):\n",
    "    encoded_song = []\n",
    "    # p = 60, d = 1.0 -> [60, \"_\",\"_\",\"_\"]\n",
    "    for event in song.flat.notesAndRests:\n",
    "\n",
    "        # handle notes\n",
    "        if isinstance(event,m21.note.Note):\n",
    "            symbol = event.pitch.midi # 60\n",
    "            \n",
    "        elif isinstance(event,m21.note.Rest):\n",
    "            symbol = 'r'\n",
    "            \n",
    "        # convert the note/rest into time series notation\n",
    "        steps = int(event.duration.quarterLength/time_step)\n",
    "        for step in range(steps):\n",
    "            if step == 0 :\n",
    "                encoded_song.append(symbol)\n",
    "            else:\n",
    "                encoded_song.append(\"_\")\n",
    "                \n",
    "\n",
    "    # cast encoded song to a list\n",
    "    encoded_song = \" \".join(map(str, encoded_song))\n",
    "    \n",
    "    return encoded_song"
   ]
  },
  {
   "cell_type": "code",
   "execution_count": 7,
   "id": "2af583b0",
   "metadata": {},
   "outputs": [],
   "source": [
    "def transpose(song):\n",
    "    # get key from song\n",
    "    parts = song.getElementsByClass(m21.stream.Part)\n",
    "    measures_part0 = parts[0].getElementsByClass(m21.stream.Measure)\n",
    "    key = measures_part0[0][4]\n",
    "\n",
    "    # estimate key using music21\n",
    "    if not isinstance(key, m21.key.Key):\n",
    "        key = song.analyze(\"key\")\n",
    "    \n",
    "    # print(key)\n",
    "\n",
    "    # get interval from transposition. Eg , Bmaj -> Cmaj\n",
    "    \n",
    "    if key.mode == 'major':\n",
    "        interval = m21.interval.Interval(key.tonic, m21.pitch.Pitch(\"C\"))\n",
    "    elif key.mode == 'minor':\n",
    "        interval = m21.interval.Interval(key.tonic, m21.pitch.Pitch(\"A\"))\n",
    "\n",
    "    \n",
    "    # transpose song by calculated interval\n",
    "    transposed_song = song.transpose(interval)\n",
    "    \n",
    "    return transposed_song"
   ]
  },
  {
   "cell_type": "code",
   "execution_count": 8,
   "id": "b42728df",
   "metadata": {},
   "outputs": [],
   "source": [
    "def load(file_path):\n",
    "    with open(file_path,'r') as f:\n",
    "        song  = f.read()\n",
    "    return song"
   ]
  },
  {
   "cell_type": "code",
   "execution_count": 9,
   "id": "de3a8dec",
   "metadata": {},
   "outputs": [],
   "source": [
    "def create_single_file_dataset(dataset_path,file_dataset_path,sequence_length):\n",
    "    delimeter = \"/ \" * sequence_length \n",
    "    \n",
    "    songs = \"\"\n",
    "    for path,_,files in os.walk(dataset_path):\n",
    "        for file in files:\n",
    "            file_path = os.path.join(path,file)\n",
    "            song = load(file_path)\n",
    "            songs = songs + song + \" \" + delimeter\n",
    "            \n",
    "    songs = songs[:-1]\n",
    "    \n",
    "    # save string that contains all the dataset\n",
    "    with open(file_dataset_path,\"w\") as f:\n",
    "        f.write(songs)\n",
    "        \n",
    "    return songs"
   ]
  },
  {
   "cell_type": "code",
   "execution_count": 10,
   "id": "aa7b75ff",
   "metadata": {},
   "outputs": [],
   "source": [
    "# songs = create_single_file_dataset(SAVE_DIR,SINGLE_FILE,SEQUENCE_LENGTH)"
   ]
  },
  {
   "cell_type": "code",
   "execution_count": 10,
   "id": "cba2ab29",
   "metadata": {},
   "outputs": [],
   "source": [
    "def create_mapping(songs,mapping_path):\n",
    "    mappings = {}\n",
    "\n",
    "    # identify the vocabulary\n",
    "    songs = songs.split()\n",
    "    vocabulary = list(set(songs))\n",
    "    \n",
    "    # creating mappings\n",
    "    for i , symbol in enumerate(vocabulary):\n",
    "        mappings[symbol] = i \n",
    "\n",
    "    # save vocabulary to  a json file\n",
    "\n",
    "    with open(mapping_path,'w') as f:\n",
    "     json.dump(mappings,f,indent=4) "
   ]
  },
  {
   "cell_type": "code",
   "execution_count": 11,
   "id": "76a08a29",
   "metadata": {},
   "outputs": [],
   "source": [
    "inputs = \"\"\n",
    "targets = \"\"\n",
    "songs = \"\"\n",
    "def main():\n",
    "    preprocess(KERN_DATASET_PATH)\n",
    "    global songs\n",
    "    songs = create_single_file_dataset(SAVE_DIR,SINGLE_FILE,SEQUENCE_LENGTH)\n",
    "    create_mapping(songs,MAPPING_PATH)\n",
    "    global inputs,targets\n",
    "    inputs,targets = generate_training_sequences(SEQUENCE_LENGTH)\n",
    "    \n",
    "    a = 1"
   ]
  },
  {
   "cell_type": "code",
   "execution_count": 12,
   "id": "faa83ff0",
   "metadata": {},
   "outputs": [
    {
     "data": {
      "text/plain": [
       "0"
      ]
     },
     "execution_count": 12,
     "metadata": {},
     "output_type": "execute_result"
    }
   ],
   "source": [
    "len(songs)"
   ]
  },
  {
   "cell_type": "code",
   "execution_count": 13,
   "id": "5e613840",
   "metadata": {},
   "outputs": [],
   "source": [
    "def convert_songs_to_int(songs):\n",
    "\n",
    "    int_songs = []\n",
    "    # load the mappings \n",
    "    mappings = json.load(open(\"mapping.json\",'r'))\n",
    "\n",
    "    # cast songs strings to a list\n",
    "    \n",
    "    songs = songs.split()\n",
    "\n",
    "    # map songs to list \n",
    "    for symbol in songs:\n",
    "        int_songs.append(mappings[symbol])\n",
    "        \n",
    "    return int_songs"
   ]
  },
  {
   "cell_type": "code",
   "execution_count": 14,
   "id": "43657db3",
   "metadata": {},
   "outputs": [],
   "source": [
    "def generate_training_sequences(sequence_length):\n",
    "    # [ 11, 12, 13, 14]\n",
    "    \n",
    "    # load songs and map them to int\n",
    "    songs = load(SINGLE_FILE)\n",
    "    int_songs = convert_songs_to_int(songs)\n",
    "\n",
    "    # generate the training sequence\n",
    "    \n",
    "    inputs = []\n",
    "    targets = []\n",
    "\n",
    "    num_sequences = (len(int_songs)) - sequence_length \n",
    "    \n",
    "    for i in range(num_sequences):\n",
    "        inputs.append(int_songs[i:i+sequence_length])\n",
    "        targets.append(int_songs[i+sequence_length])\n",
    "\n",
    "    # one hot encoding\n",
    "    \n",
    "    vocabulary_size = len(set(int_songs))\n",
    "    \n",
    "    inputs = keras.utils.to_categorical(inputs,num_classes = vocabulary_size)\n",
    "    \n",
    "    targets = np.array(targets)\n",
    "    \n",
    "    return inputs,targets"
   ]
  },
  {
   "cell_type": "code",
   "execution_count": 15,
   "id": "26e8b908",
   "metadata": {},
   "outputs": [
    {
     "name": "stdout",
     "output_type": "stream",
     "text": [
      "Loading songs..\n",
      "Loaded 1200 songs\n",
      "Not acceptable\n"
     ]
    },
    {
     "name": "stderr",
     "output_type": "stream",
     "text": [
      "/home/aman/Desktop/Python/lib/python3.12/site-packages/music21/stream/base.py:3689: Music21DeprecationWarning: .flat is deprecated.  Call .flatten() instead\n",
      "  return self.iter().getElementsByClass(classFilterList)\n"
     ]
    },
    {
     "name": "stdout",
     "output_type": "stream",
     "text": [
      "Not acceptable\n",
      "Not acceptable\n",
      "Not acceptable\n",
      "Not acceptable\n",
      "Not acceptable\n",
      "Not acceptable\n",
      "Not acceptable\n",
      "Not acceptable\n",
      "Not acceptable\n",
      "Not acceptable\n"
     ]
    },
    {
     "data": {
      "image/png": "[encoded data removed]",
      "text/plain": [
       "<IPython.core.display.Image object>"
      ]
     },
     "metadata": {
      "image/png": {
       "height": 345,
       "width": 732
      }
     },
     "output_type": "display_data"
    }
   ],
   "source": [
    "main()"
   ]
  },
  {
   "cell_type": "code",
   "execution_count": null,
   "id": "fb21a638",
   "metadata": {},
   "outputs": [],
   "source": []
  }
 ],
 "metadata": {
  "kernelspec": {
   "display_name": "Python 3 (ipykernel)",
   "language": "python",
   "name": "python3"
  }
 },
 "nbformat": 4,
 "nbformat_minor": 5
}
